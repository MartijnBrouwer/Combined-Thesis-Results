{
  "nbformat": 4,
  "nbformat_minor": 0,
  "metadata": {
    "colab": {
      "name": "PiNN_on_Burgers_PDE.ipynb",
      "provenance": []
    },
    "kernelspec": {
      "name": "python3",
      "display_name": "Python 3"
    },
    "language_info": {
      "name": "python"
    }
  },
  "cells": [
    {
      "cell_type": "code",
      "source": [
        "!pip install pyDOE\n",
        "!pip install plotting\n",
        "!pip install scipy==1.2 --upgrade\n",
        "!pip install -U -q scipy\n",
        "from scipy import io\n",
        "import numpy as np\n",
        "import matplotlib.pyplot as plt\n",
        "import scipy.io\n",
        "from scipy.interpolate import griddata\n",
        "from mpl_toolkits.mplot3d import Axes3D\n",
        "from pyDOE import lhs\n",
        "import time\n",
        "import matplotlib.gridspec as gridspec\n",
        "from mpl_toolkits.axes_grid1 import make_axes_locatable\n",
        "from google.colab import files\n",
        "import matplotlib.ticker as ticker\n",
        "\n",
        "!wget https://github.com/maziarraissi/PINNs/blob/master/appendix/Data/burgers_shock.mat?raw=true\n",
        "!mv burgers_shock.mat\\?raw\\=true burgers_shock.mat"
      ],
      "metadata": {
        "colab": {
          "base_uri": "https://localhost:8080/"
        },
        "id": "TxRoxdX426S3",
        "outputId": "e5624275-3290-4b8c-ee75-11f47d2f7d9d"
      },
      "execution_count": null,
      "outputs": [
        {
          "output_type": "stream",
          "name": "stdout",
          "text": [
            "Looking in indexes: https://pypi.org/simple, https://us-python.pkg.dev/colab-wheels/public/simple/\n",
            "Collecting pyDOE\n",
            "  Downloading pyDOE-0.3.8.zip (22 kB)\n",
            "Requirement already satisfied: numpy in /usr/local/lib/python3.7/dist-packages (from pyDOE) (1.21.6)\n",
            "Requirement already satisfied: scipy in /usr/local/lib/python3.7/dist-packages (from pyDOE) (1.4.1)\n",
            "Building wheels for collected packages: pyDOE\n",
            "  Building wheel for pyDOE (setup.py) ... \u001b[?25l\u001b[?25hdone\n",
            "  Created wheel for pyDOE: filename=pyDOE-0.3.8-py3-none-any.whl size=18184 sha256=426b2454fc07e4972535fc57a80c42f1a57dfc2d0db63cce5215d00a944b7eed\n",
            "  Stored in directory: /root/.cache/pip/wheels/83/ce/8a/87b25c685bfeca1872d13b8dc101e087a9c6e3fb5ebb47022a\n",
            "Successfully built pyDOE\n",
            "Installing collected packages: pyDOE\n",
            "Successfully installed pyDOE-0.3.8\n",
            "Looking in indexes: https://pypi.org/simple, https://us-python.pkg.dev/colab-wheels/public/simple/\n",
            "Collecting plotting\n",
            "  Downloading plotting-0.0.7-py3-none-any.whl (13 kB)\n",
            "Requirement already satisfied: matplotlib in /usr/local/lib/python3.7/dist-packages (from plotting) (3.2.2)\n",
            "Requirement already satisfied: pandas in /usr/local/lib/python3.7/dist-packages (from plotting) (1.3.5)\n",
            "Requirement already satisfied: seaborn in /usr/local/lib/python3.7/dist-packages (from plotting) (0.11.2)\n",
            "Requirement already satisfied: python-dateutil>=2.1 in /usr/local/lib/python3.7/dist-packages (from matplotlib->plotting) (2.8.2)\n",
            "Requirement already satisfied: numpy>=1.11 in /usr/local/lib/python3.7/dist-packages (from matplotlib->plotting) (1.21.6)\n",
            "Requirement already satisfied: cycler>=0.10 in /usr/local/lib/python3.7/dist-packages (from matplotlib->plotting) (0.11.0)\n",
            "Requirement already satisfied: kiwisolver>=1.0.1 in /usr/local/lib/python3.7/dist-packages (from matplotlib->plotting) (1.4.2)\n",
            "Requirement already satisfied: pyparsing!=2.0.4,!=2.1.2,!=2.1.6,>=2.0.1 in /usr/local/lib/python3.7/dist-packages (from matplotlib->plotting) (3.0.9)\n",
            "Requirement already satisfied: typing-extensions in /usr/local/lib/python3.7/dist-packages (from kiwisolver>=1.0.1->matplotlib->plotting) (4.2.0)\n",
            "Requirement already satisfied: six>=1.5 in /usr/local/lib/python3.7/dist-packages (from python-dateutil>=2.1->matplotlib->plotting) (1.15.0)\n",
            "Requirement already satisfied: pytz>=2017.3 in /usr/local/lib/python3.7/dist-packages (from pandas->plotting) (2022.1)\n",
            "Requirement already satisfied: scipy>=1.0 in /usr/local/lib/python3.7/dist-packages (from seaborn->plotting) (1.4.1)\n",
            "Installing collected packages: plotting\n",
            "Successfully installed plotting-0.0.7\n",
            "Looking in indexes: https://pypi.org/simple, https://us-python.pkg.dev/colab-wheels/public/simple/\n",
            "Collecting scipy==1.2\n",
            "  Downloading scipy-1.2.0-cp37-cp37m-manylinux1_x86_64.whl (26.6 MB)\n",
            "\u001b[K     |████████████████████████████████| 26.6 MB 1.4 MB/s \n",
            "\u001b[?25hRequirement already satisfied: numpy>=1.8.2 in /usr/local/lib/python3.7/dist-packages (from scipy==1.2) (1.21.6)\n",
            "Installing collected packages: scipy\n",
            "  Attempting uninstall: scipy\n",
            "    Found existing installation: scipy 1.4.1\n",
            "    Uninstalling scipy-1.4.1:\n",
            "      Successfully uninstalled scipy-1.4.1\n",
            "\u001b[31mERROR: pip's dependency resolver does not currently take into account all the packages that are installed. This behaviour is the source of the following dependency conflicts.\n",
            "jax 0.3.8 requires scipy>=1.2.1, but you have scipy 1.2.0 which is incompatible.\n",
            "albumentations 0.1.12 requires imgaug<0.2.7,>=0.2.5, but you have imgaug 0.2.9 which is incompatible.\u001b[0m\n",
            "Successfully installed scipy-1.2.0\n",
            "\u001b[K     |████████████████████████████████| 38.1 MB 1.2 MB/s \n",
            "\u001b[31mERROR: pip's dependency resolver does not currently take into account all the packages that are installed. This behaviour is the source of the following dependency conflicts.\n",
            "albumentations 0.1.12 requires imgaug<0.2.7,>=0.2.5, but you have imgaug 0.2.9 which is incompatible.\u001b[0m\n",
            "\u001b[?25h--2022-05-29 17:18:06--  https://github.com/maziarraissi/PINNs/blob/master/appendix/Data/burgers_shock.mat?raw=true\n",
            "Resolving github.com (github.com)... 140.82.113.4\n",
            "Connecting to github.com (github.com)|140.82.113.4|:443... connected.\n",
            "HTTP request sent, awaiting response... 302 Found\n",
            "Location: https://github.com/maziarraissi/PINNs/raw/master/appendix/Data/burgers_shock.mat [following]\n",
            "--2022-05-29 17:18:06--  https://github.com/maziarraissi/PINNs/raw/master/appendix/Data/burgers_shock.mat\n",
            "Reusing existing connection to github.com:443.\n",
            "HTTP request sent, awaiting response... 302 Found\n",
            "Location: https://raw.githubusercontent.com/maziarraissi/PINNs/master/appendix/Data/burgers_shock.mat [following]\n",
            "--2022-05-29 17:18:06--  https://raw.githubusercontent.com/maziarraissi/PINNs/master/appendix/Data/burgers_shock.mat\n",
            "Resolving raw.githubusercontent.com (raw.githubusercontent.com)... 185.199.111.133, 185.199.108.133, 185.199.110.133, ...\n",
            "Connecting to raw.githubusercontent.com (raw.githubusercontent.com)|185.199.111.133|:443... connected.\n",
            "HTTP request sent, awaiting response... 200 OK\n",
            "Length: 207944 (203K) [application/octet-stream]\n",
            "Saving to: ‘burgers_shock.mat?raw=true’\n",
            "\n",
            "burgers_shock.mat?r 100%[===================>] 203.07K  --.-KB/s    in 0.02s   \n",
            "\n",
            "2022-05-29 17:18:06 (8.38 MB/s) - ‘burgers_shock.mat?raw=true’ saved [207944/207944]\n",
            "\n"
          ]
        }
      ]
    },
    {
      "cell_type": "code",
      "source": [
        "import torch\n",
        "import torch.nn as nn\n",
        "from torch.autograd import grad\n",
        "import torch.optim as optim\n",
        "torch.set_default_dtype(torch.float32)\n",
        "import random\n",
        "\n",
        "np.random.seed(1234)\n",
        "torch.manual_seed(1234)\n",
        "random.seed(1234)"
      ],
      "metadata": {
        "id": "SxunMBcB28Bk"
      },
      "execution_count": null,
      "outputs": []
    },
    {
      "cell_type": "code",
      "source": [
        "data_sol = io.loadmat('burgers_shock.mat')\n",
        "\n",
        "lb_sol = np.array([0.0, -1.0])\n",
        "ub_sol = np.array([1.0, 1.0]) \n",
        "\n",
        "t_sol = data_sol['t'].flatten()[:,None]\n",
        "x_sol = data_sol['x'].flatten()[:,None]\n",
        "Exact_sol = np.real(data_sol['usol'])\n",
        "\n",
        "T_sol, X_sol = np.meshgrid(t_sol,x_sol)\n",
        "\n",
        "t_sol_star = T_sol.flatten()[:,None]\n",
        "x_sol_star = X_sol.flatten()[:,None]\n",
        "X_sol_star = np.hstack((t_sol_star, x_sol_star))\n",
        "u_sol_star = Exact_sol.flatten()[:,None]\n",
        "\n",
        "N0 = Exact_sol.shape[0]\n",
        "N_b = Exact_sol.shape[1]\n",
        "\n",
        "N_f = 10000\n",
        "#N_f = 20000\n",
        "    \n",
        "idx_x = np.random.choice(x_sol.shape[0], N0, replace=False)\n",
        "x0_train = x_sol[idx_x,:]\n",
        "u0_train = Exact_sol[idx_x,0:1]\n",
        "\n",
        "idx_t = np.random.choice(t_sol.shape[0], N_b, replace=False)\n",
        "tb_train = t_sol[idx_t,:]\n",
        "\n",
        "X_f_train = lb_sol + (ub_sol-lb_sol)*lhs(2, N_f)\n",
        "\n",
        "#pinn_layers = [2, 50, 50, 50, 50, 1]\n",
        "x0_train = x0_train[0:160, :]\n",
        "u0_train = u0_train[0:160, :]\n",
        "tb_train = tb_train[0:40, :]"
      ],
      "metadata": {
        "id": "mRebgMoI2_j5"
      },
      "execution_count": null,
      "outputs": []
    },
    {
      "cell_type": "code",
      "source": [
        "# Training Data for Solution\n",
        "## Generate points from initial condition x0\n",
        "## x0: 256*1, just perturbed grid data from -8 to 8\n",
        "X0 = np.concatenate((0*x0_train, x0_train), 1) # (0, x0)\n",
        "\n",
        "## tb: 201*1, just perturbed grid data from 0 to 10\n",
        "## Generate points from lower boundary condition, (tb, -8)\n",
        "X_lb = np.concatenate((tb_train, 0*tb_train + lb_sol[1]), 1) # (tb, lb[1])\n",
        "\n",
        "\n",
        "## Generate points from upper boundary condition, (tb, 8)\n",
        "X_ub = np.concatenate((tb_train, 0*tb_train + ub_sol[1]), 1) # (tb, ub[1])\n",
        "\n",
        "\n",
        "## 20000*2 X_f seems like randomly generated points (t, x) in \n",
        "## the range [0,10]*[-8,8]\n",
        "#X_f = X_f # Collocation Points\n",
        "\n",
        "\n",
        "## 256*1, In this case, they are all zeros\n",
        "## So a column vector of size 256, elements are zeros\n",
        "t0 = X0[:, 0:1] # Initial Data (time)\n",
        "\n",
        "## this is just x0 again\n",
        "## i.e a column vector of a perturbed x grid data from -1 to 1\n",
        "x0 = X0[:, 1:2] # Initial Data (space)\n",
        "\n",
        "## 100*1, this is just tb again\n",
        "## i.e a column vector of a perturbed t grid data from 0 to 10\n",
        "t_lb = X_lb[:, 0:1] # Boundary Data (time) -- lower boundary\n",
        "\n",
        "## a column vector of size 201, elements are all -1    \n",
        "x_lb = X_lb[:, 1:2] # Boundary Data (space) -- lower boundary\n",
        "\n",
        "## 100*1, this is just tb again\n",
        "## i.e a column vector of a perturbed t grid data from 0 to 10\n",
        "t_ub = X_ub[:, 0:1] # Boundary Data (time) -- upper boundary\n",
        "\n",
        "## a column vector of size 201, elements are all 1  \n",
        "x_ub = X_ub[:, 1:2] # Boundary Data (space) -- upper boundary\n",
        "\n",
        "## 20000*1 randomly generated time data in [0,10]\n",
        "t_f = X_f_train[:, 0:1] # Collocation Points (time)\n",
        "\n",
        "## 20000*1 randomly generated spce data in [-8,8]\n",
        "x_f = X_f_train[:, 1:2] # Collocation Points (space)\n",
        "\n",
        "## 256*1, u0 the actual initial value u(0, x)\n",
        "## perturbed the same way as the x grid data x0\n",
        "u0 = u0_train # Boundary Data\n",
        "\n",
        "\n",
        "x0_train = torch.from_numpy(x0_train).type(torch.float)\n",
        "u0_train = torch.from_numpy(u0_train).type(torch.float)\n",
        "tb_train = torch.from_numpy(tb_train).type(torch.float)\n",
        "X_f_train = torch.from_numpy(X_f_train).type(torch.float)\n",
        "lb_sol = torch.from_numpy(lb_sol).type(torch.float)\n",
        "ub_sol = torch.from_numpy(ub_sol).type(torch.float)\n",
        "\n",
        "X0 = torch.from_numpy(X0).type(torch.float)\n",
        "X_lb = torch.from_numpy(X_lb).type(torch.float)\n",
        "X_ub = torch.from_numpy(X_ub).type(torch.float)\n",
        "\n",
        "x0 = torch.from_numpy(x0).type(torch.float)\n",
        "t0 = torch.from_numpy(t0).type(torch.float)\n",
        "\n",
        "t_f = torch.from_numpy(t_f).type(torch.float)\n",
        "x_f = torch.from_numpy(x_f).type(torch.float)\n",
        "u0 = torch.from_numpy(u0).type(torch.float)\n",
        "\n",
        "x_lb = torch.from_numpy(x_lb).type(torch.float)\n",
        "x_ub = torch.from_numpy(x_ub).type(torch.float)\n",
        "t_lb = torch.from_numpy(t_lb).type(torch.float)\n",
        "t_ub = torch.from_numpy(t_ub).type(torch.float)\n",
        "\n",
        "tb_train.requires_grad = True\n",
        "x0_train.requires_grad = True\n",
        "u0_train.requires_grad = True\n",
        "X_f_train.requires_grad = True\n",
        "\n",
        "x_lb.requires_grad = True\n",
        "x_ub.requires_grad = True\n",
        "\n",
        "t_f.requires_grad = True\n",
        "x_f.requires_grad = True\n"
      ],
      "metadata": {
        "id": "IXgZ0Srp39on"
      },
      "execution_count": null,
      "outputs": []
    },
    {
      "cell_type": "code",
      "execution_count": null,
      "metadata": {
        "id": "RTlEugMA2289"
      },
      "outputs": [],
      "source": [
        "class Custom_sin(nn.Module):\n",
        "    def __init__(self):\n",
        "        super(Custom_sin, self).__init__()\n",
        "\n",
        "    def forward(self, input):\n",
        "        return torch.sin(input)\n",
        "\n",
        "class PINN(nn.Module):\n",
        "  def __init__(self, x0, u0, tb, X_f, layers, lb_sol, ub_sol, activation_fun=Custom_sin):\n",
        "    super(PINN, self).__init__()\n",
        "\n",
        "    self.lb_sol = lb_sol\n",
        "    self.ub_sol = ub_sol\n",
        "\n",
        "    self.act_fun = activation_fun()\n",
        "\n",
        "    self.hidden_layers = [nn.Linear(layers[0], layers[1])]\n",
        "    for idx, width in enumerate(layers[1:-1]):\n",
        "      if idx < (len(layers[1:-1]) - 1):\n",
        "        self.hidden_layers.append(nn.Linear(width, layers[idx + 2]))\n",
        "\n",
        "    self.output_layer = nn.Linear(layers[-2], layers[-1]) \n",
        "   \n",
        "    self.fnn = self.layers()\n",
        "    \n",
        "\n",
        "  def forward(self, t, x):\n",
        "      X = torch.cat([t,x], 1)\n",
        "      ## rescale the grid data from [0,10]*[-8,8] to [0,1]*[-1,1]\n",
        "      H = 2.0 * (X - self.lb_sol)/(self.ub_sol - self.lb_sol) - 1.0\n",
        "\n",
        "      output = self.fnn(H)\n",
        "      return output\n",
        "\n",
        "  def layers(self):\n",
        "      modules = []\n",
        "      for idx, layer in enumerate(self.hidden_layers):\n",
        "          modules.append(layer)\n",
        "          modules.append(self.act_fun)\n",
        "      modules.append(self.output_layer)\n",
        "\n",
        "      return nn.Sequential(*modules)"
      ]
    },
    {
      "cell_type": "code",
      "source": [
        "# takes in a module and applies the specified weight initialization\n",
        "def weights_init_xavier_rule(m):\n",
        "  classname = m.__class__.__name__\n",
        "  # for every Linear layer in a model..\n",
        "  if classname.find('Linear') != -1:\n",
        "      torch.nn.init.xavier_normal_(m.weight)\n",
        "      m.bias.data.fill_(0)\n"
      ],
      "metadata": {
        "id": "HUi1mNcRuWQz"
      },
      "execution_count": null,
      "outputs": []
    },
    {
      "cell_type": "code",
      "source": [
        "pinn_layers = [2, 20, 20, 20, 20, 20, 20, 20, 20, 1]\n",
        "pinn = PINN(x0_train, u0_train, tb_train, X_f_train, pinn_layers, lb_sol, ub_sol, Custom_sin)\n",
        "pinn.apply(weights_init_xavier_rule)"
      ],
      "metadata": {
        "colab": {
          "base_uri": "https://localhost:8080/"
        },
        "id": "inB9EHTf4HXT",
        "outputId": "3c7ebbd3-b0f2-4544-ed2b-0395a64f09ac"
      },
      "execution_count": null,
      "outputs": [
        {
          "output_type": "execute_result",
          "data": {
            "text/plain": [
              "PINN(\n",
              "  (act_fun): Custom_sin()\n",
              "  (output_layer): Linear(in_features=20, out_features=1, bias=True)\n",
              "  (fnn): Sequential(\n",
              "    (0): Linear(in_features=2, out_features=20, bias=True)\n",
              "    (1): Custom_sin()\n",
              "    (2): Linear(in_features=20, out_features=20, bias=True)\n",
              "    (3): Custom_sin()\n",
              "    (4): Linear(in_features=20, out_features=20, bias=True)\n",
              "    (5): Custom_sin()\n",
              "    (6): Linear(in_features=20, out_features=20, bias=True)\n",
              "    (7): Custom_sin()\n",
              "    (8): Linear(in_features=20, out_features=20, bias=True)\n",
              "    (9): Custom_sin()\n",
              "    (10): Linear(in_features=20, out_features=20, bias=True)\n",
              "    (11): Custom_sin()\n",
              "    (12): Linear(in_features=20, out_features=20, bias=True)\n",
              "    (13): Custom_sin()\n",
              "    (14): Linear(in_features=20, out_features=20, bias=True)\n",
              "    (15): Custom_sin()\n",
              "    (16): Linear(in_features=20, out_features=1, bias=True)\n",
              "  )\n",
              ")"
            ]
          },
          "metadata": {},
          "execution_count": 7
        }
      ]
    },
    {
      "cell_type": "code",
      "source": [
        "optimizer = torch.optim.LBFGS(pinn.parameters(), lr=0.01, max_iter=1, max_eval=1)\n",
        "                  \n",
        "from datetime import datetime\n",
        "time = datetime.now()\n",
        "epoch    = 10000\n",
        "pinn_loss_hist = []\n",
        "t_sol_star2=  torch.from_numpy(t_sol_star).type(torch.float)\n",
        "x_sol_star2= torch.from_numpy(x_sol_star).type(torch.float)\n",
        "pinn_pred_hist = [[]]\n",
        "for e in range(epoch):\n",
        "    \n",
        "    # update the parameters\n",
        "    def closure():\n",
        "      # clear the gradients\n",
        "      optimizer.zero_grad()\n",
        "      \n",
        "      # compute the loss function\n",
        "      lb_pred = pinn.forward(t_lb, x_lb)\n",
        "      ub_pred = pinn.forward(t_ub, x_ub)\n",
        "      # u_x_lb_pred = torch.autograd.grad(lb_pred, x_lb, torch.ones_like(lb_pred), create_graph=True)[0]\n",
        "      # u_x_ub_pred = torch.autograd.grad(ub_pred, x_ub, torch.ones_like(ub_pred), create_graph=True)[0]\n",
        "\n",
        "      pred_u = pinn.forward(t_f, x_f)\n",
        "      pred_u_t = torch.autograd.grad(pred_u, t_f, torch.ones_like(pred_u), create_graph=True)[0]\n",
        "      pred_u_x = torch.autograd.grad(pred_u, x_f, torch.ones_like(pred_u), create_graph=True)[0]\n",
        "      pred_u_xx = torch.autograd.grad(pred_u_x, x_f, torch.ones_like(pred_u_x), create_graph=True)[0]\n",
        "      N_pred = -pred_u*pred_u_x+(0.01/torch.pi)*pred_u_xx\n",
        "\n",
        "      MSE_0 = torch.mean(torch.square(u0-pinn.forward(t0,x0)))\n",
        "      MSE_b_u = torch.mean(torch.square(lb_pred-ub_pred))\n",
        "      # MSE_b_ux = torch.mean(torch.square(u_x_lb_pred-u_x_ub_pred))\n",
        "      MSE_f = torch.mean(torch.square(pred_u_t-N_pred)) #\n",
        "\n",
        "      # loss = MSE_0 + MSE_b_u + MSE_b_ux + MSE_f\n",
        "      loss = MSE_0 + MSE_b_u + MSE_f\n",
        "\n",
        "      # compute the gradient of the model parameters\n",
        "      loss.backward(retain_graph=True)   ## \"each successive batch will take more time than \n",
        "      #print(\"epoch=\",e,\" loss=\",loss.item())\n",
        "      return loss\n",
        "    optimizer.step(closure)\n",
        "    \n",
        "    pinn_loss_hist.append(closure().item())\n",
        "\n",
        "    if e <= 500:\n",
        "      if e % 20 == 0: \n",
        "        print(\"epoch = %6d\" % e, end=\"\")\n",
        "        print(\"  epoch loss = %10.8f\" % closure().item(), end=\"\")\n",
        "        print(\"  time: {}\".format(datetime.now() - time), end=\"\")\n",
        "        u_pred = pinn.forward(t_sol_star2, x_sol_star2)\n",
        "        u_pred = u_pred.detach().numpy()\n",
        "        print(\" Relative L2-error = \", np.linalg.norm(u_sol_star - u_pred, 2) / np.linalg.norm(u_sol_star, 2))\n",
        "        print(\"\\n\")\n",
        "        pinn_hat = pinn.forward(t_sol_star2, x_sol_star2)\n",
        "        pinn_pred_hist.append(pinn_hat)\n",
        "\n",
        "    else:\n",
        "      if e % 200 == 0:\n",
        "        print(\"epoch = %6d\" % e, end=\"\")\n",
        "        print(\"  epoch loss = %10.8f\" % closure().item(), end=\"\")\n",
        "        print(\"  time: {}\".format(datetime.now() - time), end=\"\")\n",
        "        u_pred = pinn.forward(t_sol_star2, x_sol_star2)\n",
        "        u_pred = u_pred.detach().numpy()\n",
        "        print(\" Relative L2-error = \", np.linalg.norm(u_sol_star - u_pred, 2) / np.linalg.norm(u_sol_star, 2))\n",
        "        print(\"\\n\")\n",
        "        pinn_hat = pinn.forward(t_sol_star2, x_sol_star2)\n",
        "        pinn_pred_hist.append(pinn_hat)\n"
      ],
      "metadata": {
        "colab": {
          "base_uri": "https://localhost:8080/",
          "height": 1000
        },
        "id": "926m7yMD4I3W",
        "outputId": "0b2e54d4-7031-4234-d459-2585450a1ae2"
      },
      "execution_count": null,
      "outputs": [
        {
          "output_type": "stream",
          "name": "stdout",
          "text": [
            "epoch =      0  epoch loss = 0.70321774  time: 0:00:00.693316 Relative L2-error =  0.9455952422963277\n",
            "\n",
            "\n",
            "epoch =     20  epoch loss = 0.57348543  time: 0:00:07.168205 Relative L2-error =  0.9430044198211183\n",
            "\n",
            "\n",
            "epoch =     40  epoch loss = 0.51228344  time: 0:00:13.734839 Relative L2-error =  0.9452365758449297\n",
            "\n",
            "\n",
            "epoch =     60  epoch loss = 0.48643464  time: 0:00:21.756150 Relative L2-error =  0.947059658025835\n",
            "\n",
            "\n",
            "epoch =     80  epoch loss = 0.46938261  time: 0:00:28.780204 Relative L2-error =  0.9477244617552798\n",
            "\n",
            "\n",
            "epoch =    100  epoch loss = 0.45473662  time: 0:00:35.892469 Relative L2-error =  0.9466335697583876\n",
            "\n",
            "\n",
            "epoch =    120  epoch loss = 0.43624854  time: 0:00:42.854609 Relative L2-error =  0.9409838289110374\n",
            "\n",
            "\n",
            "epoch =    140  epoch loss = 0.38631362  time: 0:00:49.770721 Relative L2-error =  0.904967501829531\n",
            "\n",
            "\n",
            "epoch =    160  epoch loss = 0.32693982  time: 0:00:56.592211 Relative L2-error =  0.837363082184148\n",
            "\n",
            "\n",
            "epoch =    180  epoch loss = 0.28452721  time: 0:01:03.435689 Relative L2-error =  0.783233078870238\n",
            "\n",
            "\n",
            "epoch =    200  epoch loss = 0.25017020  time: 0:01:10.295543 Relative L2-error =  0.7279525903216078\n",
            "\n",
            "\n",
            "epoch =    220  epoch loss = 0.22231492  time: 0:01:17.147027 Relative L2-error =  0.6682017946152021\n",
            "\n",
            "\n",
            "epoch =    240  epoch loss = 0.20475702  time: 0:01:23.994931 Relative L2-error =  0.6249114622399398\n",
            "\n",
            "\n",
            "epoch =    260  epoch loss = 0.19341321  time: 0:01:30.625114 Relative L2-error =  0.5968006485970881\n",
            "\n",
            "\n",
            "epoch =    280  epoch loss = 0.18510439  time: 0:01:37.212349 Relative L2-error =  0.5782930747067679\n",
            "\n",
            "\n",
            "epoch =    300  epoch loss = 0.17835404  time: 0:01:43.730629 Relative L2-error =  0.5662727565737916\n",
            "\n",
            "\n",
            "epoch =    320  epoch loss = 0.17235383  time: 0:01:50.261063 Relative L2-error =  0.5583838850886002\n",
            "\n",
            "\n",
            "epoch =    340  epoch loss = 0.16650009  time: 0:01:56.713429 Relative L2-error =  0.5524888838820194\n",
            "\n",
            "\n",
            "epoch =    360  epoch loss = 0.15753339  time: 0:02:03.246497 Relative L2-error =  0.5447861249887828\n",
            "\n",
            "\n",
            "epoch =    380  epoch loss = 0.14262076  time: 0:02:09.754656 Relative L2-error =  0.534961820570892\n",
            "\n",
            "\n",
            "epoch =    400  epoch loss = 0.13124961  time: 0:02:16.262220 Relative L2-error =  0.524685346849739\n",
            "\n",
            "\n",
            "epoch =    420  epoch loss = 0.12068404  time: 0:02:22.875638 Relative L2-error =  0.5077886243068628\n",
            "\n",
            "\n",
            "epoch =    440  epoch loss = 0.11510064  time: 0:02:29.406468 Relative L2-error =  0.4966453556642288\n",
            "\n",
            "\n",
            "epoch =    460  epoch loss = 0.11231123  time: 0:02:35.909163 Relative L2-error =  0.4906753172553735\n",
            "\n",
            "\n",
            "epoch =    480  epoch loss = 0.11040373  time: 0:02:42.407278 Relative L2-error =  0.48640341195042947\n",
            "\n",
            "\n",
            "epoch =    500  epoch loss = 0.10870371  time: 0:02:48.945482 Relative L2-error =  0.482272260787354\n",
            "\n",
            "\n",
            "epoch =    600  epoch loss = 0.09866951  time: 0:03:21.132962 Relative L2-error =  0.45109944531912693\n",
            "\n",
            "\n",
            "epoch =    800  epoch loss = 0.07724633  time: 0:04:25.416854 Relative L2-error =  0.40998651377184414\n",
            "\n",
            "\n",
            "epoch =   1000  epoch loss = 0.06551249  time: 0:05:28.850906 Relative L2-error =  0.3611672848852005\n",
            "\n",
            "\n",
            "epoch =   1200  epoch loss = 0.04116348  time: 0:06:31.651107 Relative L2-error =  0.268856830963814\n",
            "\n",
            "\n",
            "epoch =   1400  epoch loss = 0.01640511  time: 0:07:34.083874 Relative L2-error =  0.170403852057506\n",
            "\n",
            "\n",
            "epoch =   1600  epoch loss = 0.00795870  time: 0:08:37.356660 Relative L2-error =  0.13087258238345703\n",
            "\n",
            "\n",
            "epoch =   1800  epoch loss = 0.00318702  time: 0:09:40.663927 Relative L2-error =  0.09317498339505194\n",
            "\n",
            "\n",
            "epoch =   2000  epoch loss = 0.00166837  time: 0:10:43.157068 Relative L2-error =  0.04950613274109488\n",
            "\n",
            "\n",
            "epoch =   2200  epoch loss = 0.00093982  time: 0:11:46.201859 Relative L2-error =  0.02843445550628941\n",
            "\n",
            "\n",
            "epoch =   2400  epoch loss = 0.00056421  time: 0:12:49.277567 Relative L2-error =  0.01910651505856805\n",
            "\n",
            "\n",
            "epoch =   2600  epoch loss = 0.00034274  time: 0:13:52.170817 Relative L2-error =  0.011624610190477882\n",
            "\n",
            "\n",
            "epoch =   2800  epoch loss = 0.00023708  time: 0:14:54.930712 Relative L2-error =  0.012040328553510875\n",
            "\n",
            "\n",
            "epoch =   3000  epoch loss = 0.00018388  time: 0:15:57.583836 Relative L2-error =  0.012223648895337865\n",
            "\n",
            "\n",
            "epoch =   3200  epoch loss = 0.00013759  time: 0:17:00.426325 Relative L2-error =  0.009678248726226317\n",
            "\n",
            "\n",
            "epoch =   3400  epoch loss = 0.00010422  time: 0:18:03.313251 Relative L2-error =  0.011049348875016917\n",
            "\n",
            "\n",
            "epoch =   3600  epoch loss = 0.00008210  time: 0:19:05.898972 Relative L2-error =  0.010690291089399093\n",
            "\n",
            "\n",
            "epoch =   3800  epoch loss = 0.00006607  time: 0:20:07.746983 Relative L2-error =  0.010541831484707198\n",
            "\n",
            "\n",
            "epoch =   4000  epoch loss = 0.00005301  time: 0:21:10.663818 Relative L2-error =  0.00940473359455852\n",
            "\n",
            "\n",
            "epoch =   4200  epoch loss = 0.00004452  time: 0:22:13.334703 Relative L2-error =  0.00826004472087234\n",
            "\n",
            "\n",
            "epoch =   4400  epoch loss = 0.00003676  time: 0:23:15.783577 Relative L2-error =  0.006630022550575613\n",
            "\n",
            "\n",
            "epoch =   4600  epoch loss = 0.00003198  time: 0:24:20.629028 Relative L2-error =  0.005590103641994434\n",
            "\n",
            "\n",
            "epoch =   4800  epoch loss = 0.00002885  time: 0:25:25.297986 Relative L2-error =  0.005028556446406663\n",
            "\n",
            "\n",
            "epoch =   5000  epoch loss = 0.00002623  time: 0:26:42.833198 Relative L2-error =  0.006308239130654224\n",
            "\n",
            "\n",
            "epoch =   5200  epoch loss = 0.00002257  time: 0:27:47.670793 Relative L2-error =  0.005314719011042299\n",
            "\n",
            "\n",
            "epoch =   5400  epoch loss = 0.00001920  time: 0:28:52.851445 Relative L2-error =  0.00395929171458862\n",
            "\n",
            "\n",
            "epoch =   5600  epoch loss = 0.00001796  time: 0:29:56.778292 Relative L2-error =  0.0037969055420943123\n",
            "\n",
            "\n",
            "epoch =   5800  epoch loss = 0.00001791  time: 0:31:01.082072 Relative L2-error =  0.003781984683393485\n",
            "\n",
            "\n",
            "epoch =   6000  epoch loss = 0.00001789  time: 0:32:05.316547 Relative L2-error =  0.0037861005398559223\n",
            "\n",
            "\n"
          ]
        },
        {
          "output_type": "error",
          "ename": "KeyboardInterrupt",
          "evalue": "ignored",
          "traceback": [
            "\u001b[0;31m---------------------------------------------------------------------------\u001b[0m",
            "\u001b[0;31mKeyboardInterrupt\u001b[0m                         Traceback (most recent call last)",
            "\u001b[0;32m<ipython-input-8-cdad0ddb9292>\u001b[0m in \u001b[0;36m<module>\u001b[0;34m()\u001b[0m\n\u001b[1;32m     41\u001b[0m     \u001b[0moptimizer\u001b[0m\u001b[0;34m.\u001b[0m\u001b[0mstep\u001b[0m\u001b[0;34m(\u001b[0m\u001b[0mclosure\u001b[0m\u001b[0;34m)\u001b[0m\u001b[0;34m\u001b[0m\u001b[0;34m\u001b[0m\u001b[0m\n\u001b[1;32m     42\u001b[0m \u001b[0;34m\u001b[0m\u001b[0m\n\u001b[0;32m---> 43\u001b[0;31m     \u001b[0mpinn_loss_hist\u001b[0m\u001b[0;34m.\u001b[0m\u001b[0mappend\u001b[0m\u001b[0;34m(\u001b[0m\u001b[0mclosure\u001b[0m\u001b[0;34m(\u001b[0m\u001b[0;34m)\u001b[0m\u001b[0;34m.\u001b[0m\u001b[0mitem\u001b[0m\u001b[0;34m(\u001b[0m\u001b[0;34m)\u001b[0m\u001b[0;34m)\u001b[0m\u001b[0;34m\u001b[0m\u001b[0;34m\u001b[0m\u001b[0m\n\u001b[0m\u001b[1;32m     44\u001b[0m \u001b[0;34m\u001b[0m\u001b[0m\n\u001b[1;32m     45\u001b[0m     \u001b[0;32mif\u001b[0m \u001b[0me\u001b[0m \u001b[0;34m<=\u001b[0m \u001b[0;36m500\u001b[0m\u001b[0;34m:\u001b[0m\u001b[0;34m\u001b[0m\u001b[0;34m\u001b[0m\u001b[0m\n",
            "\u001b[0;32m<ipython-input-8-cdad0ddb9292>\u001b[0m in \u001b[0;36mclosure\u001b[0;34m()\u001b[0m\n\u001b[1;32m     24\u001b[0m       \u001b[0mpred_u_t\u001b[0m \u001b[0;34m=\u001b[0m \u001b[0mtorch\u001b[0m\u001b[0;34m.\u001b[0m\u001b[0mautograd\u001b[0m\u001b[0;34m.\u001b[0m\u001b[0mgrad\u001b[0m\u001b[0;34m(\u001b[0m\u001b[0mpred_u\u001b[0m\u001b[0;34m,\u001b[0m \u001b[0mt_f\u001b[0m\u001b[0;34m,\u001b[0m \u001b[0mtorch\u001b[0m\u001b[0;34m.\u001b[0m\u001b[0mones_like\u001b[0m\u001b[0;34m(\u001b[0m\u001b[0mpred_u\u001b[0m\u001b[0;34m)\u001b[0m\u001b[0;34m,\u001b[0m \u001b[0mcreate_graph\u001b[0m\u001b[0;34m=\u001b[0m\u001b[0;32mTrue\u001b[0m\u001b[0;34m)\u001b[0m\u001b[0;34m[\u001b[0m\u001b[0;36m0\u001b[0m\u001b[0;34m]\u001b[0m\u001b[0;34m\u001b[0m\u001b[0;34m\u001b[0m\u001b[0m\n\u001b[1;32m     25\u001b[0m       \u001b[0mpred_u_x\u001b[0m \u001b[0;34m=\u001b[0m \u001b[0mtorch\u001b[0m\u001b[0;34m.\u001b[0m\u001b[0mautograd\u001b[0m\u001b[0;34m.\u001b[0m\u001b[0mgrad\u001b[0m\u001b[0;34m(\u001b[0m\u001b[0mpred_u\u001b[0m\u001b[0;34m,\u001b[0m \u001b[0mx_f\u001b[0m\u001b[0;34m,\u001b[0m \u001b[0mtorch\u001b[0m\u001b[0;34m.\u001b[0m\u001b[0mones_like\u001b[0m\u001b[0;34m(\u001b[0m\u001b[0mpred_u\u001b[0m\u001b[0;34m)\u001b[0m\u001b[0;34m,\u001b[0m \u001b[0mcreate_graph\u001b[0m\u001b[0;34m=\u001b[0m\u001b[0;32mTrue\u001b[0m\u001b[0;34m)\u001b[0m\u001b[0;34m[\u001b[0m\u001b[0;36m0\u001b[0m\u001b[0;34m]\u001b[0m\u001b[0;34m\u001b[0m\u001b[0;34m\u001b[0m\u001b[0m\n\u001b[0;32m---> 26\u001b[0;31m       \u001b[0mpred_u_xx\u001b[0m \u001b[0;34m=\u001b[0m \u001b[0mtorch\u001b[0m\u001b[0;34m.\u001b[0m\u001b[0mautograd\u001b[0m\u001b[0;34m.\u001b[0m\u001b[0mgrad\u001b[0m\u001b[0;34m(\u001b[0m\u001b[0mpred_u_x\u001b[0m\u001b[0;34m,\u001b[0m \u001b[0mx_f\u001b[0m\u001b[0;34m,\u001b[0m \u001b[0mtorch\u001b[0m\u001b[0;34m.\u001b[0m\u001b[0mones_like\u001b[0m\u001b[0;34m(\u001b[0m\u001b[0mpred_u_x\u001b[0m\u001b[0;34m)\u001b[0m\u001b[0;34m,\u001b[0m \u001b[0mcreate_graph\u001b[0m\u001b[0;34m=\u001b[0m\u001b[0;32mTrue\u001b[0m\u001b[0;34m)\u001b[0m\u001b[0;34m[\u001b[0m\u001b[0;36m0\u001b[0m\u001b[0;34m]\u001b[0m\u001b[0;34m\u001b[0m\u001b[0;34m\u001b[0m\u001b[0m\n\u001b[0m\u001b[1;32m     27\u001b[0m       \u001b[0mN_pred\u001b[0m \u001b[0;34m=\u001b[0m \u001b[0;34m-\u001b[0m\u001b[0mpred_u\u001b[0m\u001b[0;34m*\u001b[0m\u001b[0mpred_u_x\u001b[0m\u001b[0;34m+\u001b[0m\u001b[0;34m(\u001b[0m\u001b[0;36m0.01\u001b[0m\u001b[0;34m/\u001b[0m\u001b[0mtorch\u001b[0m\u001b[0;34m.\u001b[0m\u001b[0mpi\u001b[0m\u001b[0;34m)\u001b[0m\u001b[0;34m*\u001b[0m\u001b[0mpred_u_xx\u001b[0m\u001b[0;34m\u001b[0m\u001b[0;34m\u001b[0m\u001b[0m\n\u001b[1;32m     28\u001b[0m \u001b[0;34m\u001b[0m\u001b[0m\n",
            "\u001b[0;32m/usr/local/lib/python3.7/dist-packages/torch/autograd/__init__.py\u001b[0m in \u001b[0;36mgrad\u001b[0;34m(outputs, inputs, grad_outputs, retain_graph, create_graph, only_inputs, allow_unused, is_grads_batched)\u001b[0m\n\u001b[1;32m    275\u001b[0m         return Variable._execution_engine.run_backward(  # Calls into the C++ engine to run the backward pass\n\u001b[1;32m    276\u001b[0m             \u001b[0moutputs\u001b[0m\u001b[0;34m,\u001b[0m \u001b[0mgrad_outputs_\u001b[0m\u001b[0;34m,\u001b[0m \u001b[0mretain_graph\u001b[0m\u001b[0;34m,\u001b[0m \u001b[0mcreate_graph\u001b[0m\u001b[0;34m,\u001b[0m \u001b[0minputs\u001b[0m\u001b[0;34m,\u001b[0m\u001b[0;34m\u001b[0m\u001b[0;34m\u001b[0m\u001b[0m\n\u001b[0;32m--> 277\u001b[0;31m             allow_unused, accumulate_grad=False)  # Calls into the C++ engine to run the backward pass\n\u001b[0m\u001b[1;32m    278\u001b[0m \u001b[0;34m\u001b[0m\u001b[0m\n\u001b[1;32m    279\u001b[0m \u001b[0;34m\u001b[0m\u001b[0m\n",
            "\u001b[0;31mKeyboardInterrupt\u001b[0m: "
          ]
        }
      ]
    },
    {
      "cell_type": "code",
      "source": [
        "torch.save(pinn.state_dict(),\"PiNNsingle8_20_Loss1e-05_Err3e-3.pth\")"
      ],
      "metadata": {
        "id": "AqTcR7k_rLV_"
      },
      "execution_count": null,
      "outputs": []
    },
    {
      "cell_type": "code",
      "source": [
        "pinn.load_state_dict(torch.load(\"PiNNsingle8_20_Loss1e-05_Err3e-3.pth\"))\n",
        "pinn.eval()"
      ],
      "metadata": {
        "id": "5Xbn6DjtyQvJ"
      },
      "execution_count": null,
      "outputs": []
    },
    {
      "cell_type": "code",
      "source": [
        "epochs=np.append(np.linspace(0,500,26, dtype=int),np.linspace(600,5200,24,dtype=int))"
      ],
      "metadata": {
        "id": "QlMte0RryVb-"
      },
      "execution_count": null,
      "outputs": []
    },
    {
      "cell_type": "code",
      "source": [
        "files1 = []\n",
        "for i in range(1,51):\n",
        "  u_pred=pinn_pred_hist[i].detach().numpy()\n",
        "  U_pred = griddata(X_sol_star, u_pred.flatten(), (T_sol, X_sol), method='cubic')\n",
        "\n",
        "  fig, ax = plt.subplots()\n",
        "  h = ax.imshow(U_pred, interpolation='nearest', cmap='jet', \n",
        "                #extent=[lb_idn[0], ub_idn[0], lb_idn[1], ub_idn[1]],\n",
        "                extent=[0,1,-1,1],\n",
        "                origin='lower', aspect='auto', vmin=-1.1, vmax=1.1)\n",
        "\n",
        "  cbar = fig.colorbar(h) #, format=ticker.FuncFormatter(fmt)\n",
        "  ax.text(1.3, 0.3, \"Epochs: %i\"%(epochs[i-1]), fontsize=\"x-large\", color=\"k\")\n",
        "  ax.text(1.3, 0, \"Loss: {:.2e}\".format(pinn_loss_hist[epochs[i-1]]), fontsize=\"x-large\", color=\"k\")\n",
        "  ax.set_xlabel('$t$')\n",
        "  ax.set_ylabel('$x$')\n",
        "  ax.set_title('Predictions', fontsize = \"x-large\")\n",
        "  \n",
        "  file = \"2dplots/pred_%.8i.png\"%(i)\n",
        "  plt.savefig(file, bbox_inches='tight', pad_inches=0.1, dpi=100, facecolor=\"white\")\n",
        "  files1.append(file)"
      ],
      "metadata": {
        "id": "vNL3cGH9GmLc"
      },
      "execution_count": null,
      "outputs": []
    },
    {
      "cell_type": "code",
      "source": [
        "u_pred=pinn_pred_hist[50].detach().numpy()\n",
        "U_pred = griddata(X_sol_star, u_pred.flatten(), (T_sol, X_sol), method='cubic')\n",
        "pinn_error = abs(U_pred - Exact_sol)\n",
        "print(np.max(np.log(pinn_error)))\n",
        "print(np.min(np.log(pinn_error)))\n",
        "print(np.mean(np.log(pinn_error)))"
      ],
      "metadata": {
        "colab": {
          "base_uri": "https://localhost:8080/"
        },
        "id": "B_Seik9QNVi0",
        "outputId": "1abbf390-17ec-47f1-e2f1-c4fcf534835a"
      },
      "execution_count": null,
      "outputs": [
        {
          "output_type": "stream",
          "name": "stdout",
          "text": [
            "-2.912568736970712\n",
            "-17.778677507942263\n",
            "-8.208942742815449\n"
          ]
        }
      ]
    },
    {
      "cell_type": "code",
      "source": [
        "files2 = []\n",
        "for i in range(1,51):\n",
        "  u_pred=pinn_pred_hist[i].detach().numpy()\n",
        "  U_pred = griddata(X_sol_star, u_pred.flatten(), (T_sol, X_sol), method='cubic')\n",
        "  pinn_error = abs(U_pred - Exact_sol)\n",
        "\n",
        "  fig, ax = plt.subplots()\n",
        "  h = ax.imshow(np.log(pinn_error), interpolation='nearest', cmap='jet', \n",
        "                extent=[0,1,-1,1],\n",
        "                origin='lower', aspect='auto', vmin=-16, vmax=0.1)\n",
        "\n",
        "  cbar = fig.colorbar(h) #, format=ticker.FuncFormatter(fmt)\n",
        "  ax.text(1.3, 0.3, \"Epochs: %i\"%(epochs[i-1]), fontsize=\"x-large\", color=\"k\")\n",
        "  ax.text(1.3, 0, \"Loss: {:.2e}\".format(pinn_loss_hist[epochs[i-1]]), fontsize=\"x-large\", color=\"k\")\n",
        "  ax.set_xlabel('$t$')\n",
        "  ax.set_ylabel('$x$')\n",
        "  ax.set_title('Predictions', fontsize = \"x-large\")\n",
        "  \n",
        "  file = \"2derror/error_%.8i.png\"%(i)\n",
        "  plt.savefig(file, bbox_inches='tight', pad_inches=0.1, dpi=100, facecolor=\"white\")\n",
        "  files2.append(file)"
      ],
      "metadata": {
        "id": "dtGKku5WM5AS"
      },
      "execution_count": null,
      "outputs": []
    },
    {
      "cell_type": "code",
      "source": [
        "from PIL import Image\n",
        "def save_gif(outfile, files, fps=5, loop=0):\n",
        "    imgs = [Image.open(file) for file in files]\n",
        "    imgs[0].save(fp=outfile, format='GIF', append_images=imgs[1:], save_all=True, duration=int(1000/fps), loop=loop)\n"
      ],
      "metadata": {
        "id": "51YpUHkdJ9gg"
      },
      "execution_count": null,
      "outputs": []
    },
    {
      "cell_type": "code",
      "source": [
        "save_gif(\"pinn_pred.gif\", files1, fps=8, loop=0)"
      ],
      "metadata": {
        "id": "_1zhBVNXKCPE"
      },
      "execution_count": null,
      "outputs": []
    },
    {
      "cell_type": "code",
      "source": [
        "save_gif(\"pinn_error.gif\", files2, fps=8, loop=0)"
      ],
      "metadata": {
        "id": "kRrmAGQUOETI"
      },
      "execution_count": null,
      "outputs": []
    },
    {
      "cell_type": "code",
      "source": [
        "u_pred=pinn.forward(t_sol_star2, x_sol_star2)\n",
        "u_pred=u_pred.detach().numpy()\n",
        "U_pred=griddata(X_sol_star, u_pred.flatten(), (T_sol, X_sol), method='cubic')\n",
        "pinn_error=U_pred - Exact_sol\n",
        "\n",
        "files3 = []\n",
        "for i in range(0,100):\n",
        "  plt.figure()\n",
        "  plt.plot(X_sol[:,1],Exact_sol[:,i],linewidth=4,color='b',label=\"Exact\")\n",
        "  plt.plot(X_sol[:,1],U_pred[:,i],'--',color='r',linewidth=4,label=\"Predicted\")\n",
        "  plt.legend(loc=\"upper right\",fontsize=\"large\")\n",
        "  plt.ylim(-1.1, 1.1)\n",
        "  plt.xlabel('$x$',fontsize=\"large\")\n",
        "  plt.ylabel('$u(t,x)$',fontsize=\"large\")\n",
        "  plt.title('Time t = {:.2f}'.format(float(t_sol[i])), fontsize = \"x-large\")\n",
        "  \n",
        "  file = \"predtime/predtime_%.8i.png\"%(i)\n",
        "  plt.savefig(file, bbox_inches='tight', pad_inches=0.1, dpi=100, facecolor=\"white\")\n",
        "  files3.append(file)\n",
        "\n"
      ],
      "metadata": {
        "id": "fanHoUSjSjSR"
      },
      "execution_count": null,
      "outputs": []
    },
    {
      "cell_type": "code",
      "source": [
        "pinn_error=U_pred - Exact_sol\n",
        "files4 = []\n",
        "for i in range(0,100):\n",
        "  plt.figure()\n",
        "  plt.plot(X_sol[:,-1],pinn_error[:,i],linewidth=3)\n",
        "  \n",
        "  plt.ylim(-0.003,0.04)\n",
        "  plt.xlabel('$x$',fontsize=\"large\")\n",
        "  plt.ylabel('Error',fontsize=\"large\")\n",
        "  plt.title('Time t = {:.2f}'.format(float(t_sol[i])), fontsize = \"x-large\")\n",
        "  \n",
        "  file = \"predtime/predtime_%.8i.png\"%(i)\n",
        "  plt.savefig(file, bbox_inches='tight', pad_inches=0.1, dpi=100, facecolor=\"white\")\n",
        "  files4.append(file)\n"
      ],
      "metadata": {
        "id": "v8okP5ESdWcz"
      },
      "execution_count": null,
      "outputs": []
    },
    {
      "cell_type": "code",
      "source": [
        "files5 = []\n",
        "for i in range(1,101):\n",
        "  fig, ax = plt.subplots()\n",
        "  h = ax.imshow(Exact_sol[:,0:i], interpolation='nearest', cmap='jet', \n",
        "                #extent=[lb_idn[0], ub_idn[0], lb_idn[1], ub_idn[1]],\n",
        "                extent=[0,0.01*i,-1,1],\n",
        "                origin='lower', aspect='auto', vmin=-1.1, vmax=1.1)\n",
        "\n",
        "  cbar = fig.colorbar(h) #, format=ticker.FuncFormatter(fmt)\n",
        "  ax.axis(xmin=0.0,xmax=1)\n",
        "  ax.set_xlabel('$t$')\n",
        "  ax.set_ylabel('$x$')\n",
        "  ax.set_title('Exact Solution', fontsize = \"x-large\")\n",
        "  \n",
        "  file = \"2dsol/exactsol_%.8i.png\"%(i)\n",
        "  plt.savefig(file, bbox_inches='tight', pad_inches=0.1, dpi=100, facecolor=\"white\")\n",
        "  files5.append(file)"
      ],
      "metadata": {
        "id": "07RySZx905FY"
      },
      "execution_count": null,
      "outputs": []
    },
    {
      "cell_type": "code",
      "source": [
        "files6 = []\n",
        "for i in range(0,100):\n",
        "  plt.figure()\n",
        "  plt.plot(Exact_sol[:,i],linewidth=3)\n",
        "  \n",
        "  plt.ylim(-1.1,1.1)\n",
        "  plt.xlabel('$x$',fontsize=\"large\")\n",
        "  plt.ylabel('$u(t,x)$',fontsize=\"large\")\n",
        "  plt.title('Time t = {:.2f}'.format(float(t_sol[i])), fontsize = \"x-large\")\n",
        "  \n",
        "  file = \"2dsoltime/exactsoltime_%.8i.png\"%(i)\n",
        "  plt.savefig(file, bbox_inches='tight', pad_inches=0.1, dpi=100, facecolor=\"white\")\n",
        "  files6.append(file)"
      ],
      "metadata": {
        "id": "F6BZ8BYn6FiN"
      },
      "execution_count": null,
      "outputs": []
    },
    {
      "cell_type": "code",
      "source": [
        "save_gif(\"pinn_predtime.gif\", files3, fps=16, loop=0)"
      ],
      "metadata": {
        "id": "U0tc9Z1fcas5"
      },
      "execution_count": null,
      "outputs": []
    },
    {
      "cell_type": "code",
      "source": [
        "save_gif(\"pinn_errortime.gif\", files4, fps=16, loop=0)"
      ],
      "metadata": {
        "id": "80SHZkure7Qf"
      },
      "execution_count": null,
      "outputs": []
    },
    {
      "cell_type": "code",
      "source": [
        "save_gif(\"exact_sol_2d.gif\", files5, fps=5, loop=0)"
      ],
      "metadata": {
        "id": "bfH-f2_n5K7M"
      },
      "execution_count": null,
      "outputs": []
    },
    {
      "cell_type": "code",
      "source": [
        "save_gif(\"exact_sol_time.gif\", files6, fps=5, loop=0)"
      ],
      "metadata": {
        "id": "UQQhb6WI7odL"
      },
      "execution_count": null,
      "outputs": []
    },
    {
      "cell_type": "code",
      "source": [
        "pinn_error=U_pred - Exact_sol\n",
        "plt.plot()\n",
        "# plt.plot(X_sol[:,-1],pinn_error[:,1],linewidth=4)\n",
        "plt.plot(X_sol[:,1],Exact_sol[:,99],linewidth=4,color='b',label=\"Exact\")\n",
        "plt.plot(X_sol[:,1],U_pred[:,99],'--',color='r',linewidth=4,label=\"Predicted\")\n",
        "plt.legend(loc=\"upper right\",fontsize=\"large\")\n",
        "plt.ylim(0.0,0.7)\n",
        "plt.xlim(-0.01,0.01)\n",
        "plt.xlabel(\"x\",fontsize=\"large\")\n",
        "plt.ylabel(\"u\",fontsize=\"large\")\n",
        "plt.title('Time t = {:.2f}'.format(float(t_sol[1])), fontsize = \"x-large\")"
      ],
      "metadata": {
        "colab": {
          "base_uri": "https://localhost:8080/",
          "height": 317
        },
        "id": "M85S8C68WjUo",
        "outputId": "5a6914e4-57c7-48d5-f5a5-0bfcba8fce96"
      },
      "execution_count": null,
      "outputs": [
        {
          "output_type": "execute_result",
          "data": {
            "text/plain": [
              "Text(0.5, 1.0, 'Time t = 0.01')"
            ]
          },
          "metadata": {},
          "execution_count": 179
        },
        {
          "output_type": "display_data",
          "data": {
            "text/plain": [
              "<Figure size 432x288 with 1 Axes>"
            ],
            "image/png": "[encoded data removed]"
          },
          "metadata": {
            "needs_background": "light"
          }
        }
      ]
    },
    {
      "cell_type": "code",
      "source": [
        "datapred = pinn_pred_hist[50].detach().numpy()\n",
        "U_pred = griddata(X_sol_star, datapred.flatten(), (T_sol, X_sol), method='cubic')\n",
        "fig, ax = plt.subplots()\n",
        "h = ax.imshow(U_pred, interpolation='nearest', cmap='jet', \n",
        "              #extent=[lb_idn[0], ub_idn[0], lb_idn[1], ub_idn[1]],\n",
        "              extent=[0,1,-1,1],\n",
        "              origin='lower', aspect='auto', vmin=-1.1, vmax=1.1)\n",
        "\n",
        "cbar = fig.colorbar(h) #, format=ticker.FuncFormatter(fmt)\n",
        "ax.text(1.3, 0.3, \"Epochs: %i\"%(200), fontsize=\"x-large\", color=\"k\")\n",
        "ax.text(1.3, 0, \"Loss: {:.2e}\".format(pinn_loss_hist[5000]), fontsize=\"x-large\", color=\"k\")\n",
        "ax.set_xlabel('$t$')\n",
        "ax.set_ylabel('$x$')\n",
        "ax.set_title('Predictions', fontsize = \"x-large\")"
      ],
      "metadata": {
        "colab": {
          "base_uri": "https://localhost:8080/",
          "height": 316
        },
        "id": "xxr5m1fMAEX7",
        "outputId": "65b72d1d-61a7-4bd6-d16c-82b7cfd36c2a"
      },
      "execution_count": null,
      "outputs": [
        {
          "output_type": "execute_result",
          "data": {
            "text/plain": [
              "Text(0.5, 1.0, 'Predictions')"
            ]
          },
          "metadata": {},
          "execution_count": 76
        },
        {
          "output_type": "display_data",
          "data": {
            "text/plain": [
              "<Figure size 432x288 with 2 Axes>"
            ],
            "image/png": "[encoded data removed]"
          },
          "metadata": {
            "needs_background": "light"
          }
        }
      ]
    },
    {
      "cell_type": "code",
      "source": [
        "torch.save(pinn_pred_hist,\"pinnSingle_pred_hist.pth\")"
      ],
      "metadata": {
        "id": "HEHe37qrD-my"
      },
      "execution_count": null,
      "outputs": []
    },
    {
      "cell_type": "code",
      "source": [
        "datatry = lb_sol + (ub_sol-lb_sol)*lhs(2, N_f)\n",
        "plt.scatter(datatry[:,0:1],datatry[:,1:2],0.003)\n",
        "plt.scatter(t_sol_star,x_sol_star,0.0003)"
      ],
      "metadata": {
        "colab": {
          "base_uri": "https://localhost:8080/",
          "height": 283
        },
        "id": "8iHAvTXp7EpD",
        "outputId": "414e55ee-27a0-428f-daf1-38ed28d11a11"
      },
      "execution_count": null,
      "outputs": [
        {
          "output_type": "execute_result",
          "data": {
            "text/plain": [
              "<matplotlib.collections.PathCollection at 0x7f0e62e39b90>"
            ]
          },
          "metadata": {},
          "execution_count": 18
        },
        {
          "output_type": "display_data",
          "data": {
            "text/plain": [
              "<Figure size 432x288 with 1 Axes>"
            ],
            "image/png": "[encoded data removed]"
          },
          "metadata": {
            "needs_background": "light"
          }
        }
      ]
    },
    {
      "cell_type": "code",
      "source": [
        "plt.plot(np.log(pinn_loss_hist))"
      ],
      "metadata": {
        "colab": {
          "base_uri": "https://localhost:8080/",
          "height": 283
        },
        "id": "G-Ouu-mUqbAX",
        "outputId": "a33b938e-bd28-4a64-b22c-b40156787da6"
      },
      "execution_count": null,
      "outputs": [
        {
          "output_type": "execute_result",
          "data": {
            "text/plain": [
              "[<matplotlib.lines.Line2D at 0x7fed68640450>]"
            ]
          },
          "metadata": {},
          "execution_count": 43
        },
        {
          "output_type": "display_data",
          "data": {
            "text/plain": [
              "<Figure size 432x288 with 1 Axes>"
            ],
            "image/png": "[encoded data removed]"
          },
          "metadata": {
            "needs_background": "light"
          }
        }
      ]
    },
    {
      "cell_type": "code",
      "source": [
        "t_sol_star1=  torch.from_numpy(t_sol_star).type(torch.DoubleTensor)\n",
        "x_sol_star1= torch.from_numpy(x_sol_star).type(torch.DoubleTensor)\n",
        "u_pred = pinn.forward(t_sol_star1, x_sol_star1)\n",
        "u_pred = u_pred.detach().numpy()\n",
        "print(np.linalg.norm(u_sol_star-u_pred,2)/np.linalg.norm(u_sol_star,2))"
      ],
      "metadata": {
        "colab": {
          "base_uri": "https://localhost:8080/"
        },
        "id": "EZwh-9sE6ywO",
        "outputId": "bcfd4e49-e740-41ab-ad9c-0fbe97d65d4a"
      },
      "execution_count": null,
      "outputs": [
        {
          "output_type": "stream",
          "name": "stdout",
          "text": [
            "0.0027822886452921855\n"
          ]
        }
      ]
    },
    {
      "cell_type": "code",
      "source": [
        "t_int = data_sol['t'].flatten()[1:,None]\n",
        "x_int = data_sol['x'].flatten()[1:-1:,None]\n",
        "T_int, X_int = np.meshgrid(t_int,x_int)\n",
        "Exact_sol = np.real(data_sol['usol'])\n",
        "Exact_int = Exact_sol[1:-1,:]\n",
        "Exact_int = Exact_int[:,1:]\n",
        "\n",
        "t_int_star = T_int.flatten()[:,None]\n",
        "x_int_star = X_int.flatten()[:,None]\n",
        "X_int_star = np.hstack((t_int_star, x_int_star))\n",
        "u_int_star = Exact_int.flatten()[:,None]\n",
        "\n",
        "t_int_star1=  torch.from_numpy(t_int_star).type(torch.DoubleTensor)\n",
        "x_int_star1= torch.from_numpy(x_int_star).type(torch.DoubleTensor)\n",
        "u_pred_int = pinn.forward(t_int_star1, x_int_star1)\n",
        "u_pred_int = u_pred_int.detach().numpy()  \n",
        "error_u_int = np.linalg.norm(u_int_star-u_pred_int,2)/np.linalg.norm(u_int_star,2)\n",
        "print('Error u: %e' % (error_u_int))\n",
        "\n"
      ],
      "metadata": {
        "colab": {
          "base_uri": "https://localhost:8080/"
        },
        "id": "MAtmisYcD0-h",
        "outputId": "b8960e0b-5518-4a69-d7fc-06f3345d3e1e"
      },
      "execution_count": null,
      "outputs": [
        {
          "output_type": "stream",
          "name": "stdout",
          "text": [
            "Error u: 2.784417e-03\n"
          ]
        }
      ]
    },
    {
      "cell_type": "code",
      "source": [
        "# t_sol_star1=  torch.from_numpy(t_sol_star).type(torch.DoubleTensor)\n",
        "# x_sol_star1= torch.from_numpy(x_sol_star).type(torch.DoubleTensor)\n",
        "# u_pred = pinn.forward(t_sol_star1, x_sol_star1)\n",
        "# u_pred = u_pred.detach().numpy()\n",
        "U_pred = griddata(X_sol_star, u_pred.flatten(), (T_sol, X_sol), method='cubic')\n",
        "abs_error = abs(U_pred-Exact_sol)\n",
        "\n",
        "fig, ax = plt.subplots()\n",
        "ax.axis('off')\n",
        "    \n",
        "######## Row 2: Pressure #######################\n",
        "########      Predicted p(t,x,y)     ########### \n",
        "gs = gridspec.GridSpec(1, 2)\n",
        "gs.update(top=0.8, bottom=0.2, left=0.1, right=0.9, wspace=0.5)\n",
        "ax = plt.subplot(gs[:, 0])\n",
        "h = ax.imshow(Exact_sol, interpolation='nearest', cmap='jet', \n",
        "              extent=[lb_sol[0], ub_sol[0], lb_sol[1], ub_sol[1]],\n",
        "              origin='lower', aspect='auto')\n",
        "divider = make_axes_locatable(ax)\n",
        "cax = divider.append_axes(\"right\", size=\"5%\", pad=0.05)\n",
        "\n",
        "fig.colorbar(h, cax=cax)\n",
        "ax.set_xlabel('$t$')\n",
        "ax.set_ylabel('$x$')\n",
        "ax.set_title('Exact Dynamics', fontsize = 10)\n",
        "\n",
        "########     Exact p(t,x,y)     ########### \n",
        "ax = plt.subplot(gs[:, 1])\n",
        "h = ax.imshow(abs_error, interpolation='nearest', cmap='jet', \n",
        "              extent=[lb_sol[0], ub_sol[0], lb_sol[1], ub_sol[1]], \n",
        "              origin='lower', aspect='auto')\n",
        "divider = make_axes_locatable(ax)\n",
        "cax = divider.append_axes(\"right\", size=\"5%\", pad=0.05)\n",
        "\n",
        "fig.colorbar(h, cax=cax)\n",
        "ax.set_xlabel('$t$')\n",
        "ax.set_ylabel('$x$')\n",
        "ax.set_title('Learned Dynamics', fontsize = 10)"
      ],
      "metadata": {
        "colab": {
          "base_uri": "https://localhost:8080/",
          "height": 269
        },
        "id": "jRr0i8Fq8Dlv",
        "outputId": "4e3d5a4d-0699-4209-b997-8a1435fee885"
      },
      "execution_count": null,
      "outputs": [
        {
          "output_type": "execute_result",
          "data": {
            "text/plain": [
              "Text(0.5, 1.0, 'Learned Dynamics')"
            ]
          },
          "metadata": {},
          "execution_count": 27
        },
        {
          "output_type": "display_data",
          "data": {
            "text/plain": [
              "<Figure size 432x288 with 4 Axes>"
            ],
            "image/png": "[encoded data removed]"
          },
          "metadata": {
            "needs_background": "light"
          }
        }
      ]
    },
    {
      "cell_type": "code",
      "source": [
        "pinn_adam = PINN(x0_train, u0_train, tb_train, X_f_train, pinn_layers, lb_sol, ub_sol, Custom_sin)"
      ],
      "metadata": {
        "id": "WslnbnuC_vDE"
      },
      "execution_count": null,
      "outputs": []
    },
    {
      "cell_type": "code",
      "source": [
        "optimizer = torch.optim.Adam(pinn_adam.parameters(), lr=0.001)\n",
        "                  \n",
        "from datetime import datetime\n",
        "time = datetime.now()\n",
        "epoch    = 6000\n",
        "pinn_loss_hist = []\n",
        "\n",
        "\n",
        "for e in range(epoch):\n",
        " \n",
        "    # clear the gradients\n",
        "    optimizer.zero_grad()\n",
        "    \n",
        "    # compute the loss function\n",
        "    lb_pred = pinn_adam.forward(t_lb, x_lb)\n",
        "    ub_pred = pinn_adam.forward(t_ub, x_ub)\n",
        "    u_x_lb_pred = torch.autograd.grad(lb_pred, x_lb, torch.ones_like(lb_pred), create_graph=True)[0]\n",
        "    u_x_ub_pred = torch.autograd.grad(ub_pred, x_ub, torch.ones_like(ub_pred), create_graph=True)[0]\n",
        "\n",
        "    pred_u = pinn_adam.forward(t_f, x_f)\n",
        "    pred_u_t = torch.autograd.grad(pred_u, t_f, torch.ones_like(pred_u), create_graph=True)[0]\n",
        "    pred_u_x = torch.autograd.grad(pred_u, x_f, torch.ones_like(pred_u), create_graph=True)[0]\n",
        "    pred_u_xx = torch.autograd.grad(pred_u_x, x_f, torch.ones_like(pred_u_x), create_graph=True)[0]\n",
        "    N_pred = -pred_u*pred_u_x+0.1*pred_u_xx\n",
        "\n",
        "    MSE_0 = torch.mean(torch.square(u0-pinn_adam.forward(t0,x0)))\n",
        "    MSE_b_u = torch.mean(torch.square(lb_pred-ub_pred))\n",
        "    MSE_b_ux = torch.mean(torch.square(u_x_lb_pred-u_x_ub_pred))\n",
        "    MSE_f = torch.mean(torch.square(pred_u_t-N_pred)) #\n",
        "\n",
        "    loss = MSE_0 + MSE_b_u + MSE_b_ux + MSE_f\n",
        "\n",
        "    # compute the gradient of the model parameters\n",
        "    loss.backward(retain_graph=True)   ## \"each successive batch will take more time than \n",
        "    optimizer.step()\n",
        "    loss.detach()\n",
        "    \n",
        "    pinn_loss_hist.append(loss.item())\n",
        "    \n",
        "    if e % 50 == 0:\n",
        "        print(\"epoch = %6d\" % e, end=\"\")\n",
        "        print(\"  epoch loss = %10.8f\" % loss.item(), end=\"\")\n",
        "        print(\"  time: {}\".format(datetime.now() - time), end=\"\")\n",
        "        print(\"\\n\")"
      ],
      "metadata": {
        "colab": {
          "base_uri": "https://localhost:8080/"
        },
        "id": "mNNSbNd7_KHE",
        "outputId": "d7649e84-8f68-46f9-eed5-f6458e638ccc"
      },
      "execution_count": null,
      "outputs": [
        {
          "output_type": "stream",
          "name": "stdout",
          "text": [
            "epoch =      0  epoch loss = 0.51233090  time: 0:00:00.796426\n",
            "\n",
            "epoch =     50  epoch loss = 0.37190335  time: 0:00:39.574994\n",
            "\n",
            "epoch =    100  epoch loss = 0.07788241  time: 0:01:18.553677\n",
            "\n",
            "epoch =    150  epoch loss = 0.01393965  time: 0:01:57.431688\n",
            "\n",
            "epoch =    200  epoch loss = 0.01118436  time: 0:02:36.270352\n",
            "\n",
            "epoch =    250  epoch loss = 0.00959368  time: 0:03:15.168366\n",
            "\n",
            "epoch =    300  epoch loss = 0.00904711  time: 0:03:53.818492\n",
            "\n",
            "epoch =    350  epoch loss = 0.00811196  time: 0:04:32.176166\n",
            "\n",
            "epoch =    400  epoch loss = 0.00849275  time: 0:05:10.853112\n",
            "\n",
            "epoch =    450  epoch loss = 0.00738816  time: 0:05:49.320631\n",
            "\n",
            "epoch =    500  epoch loss = 0.00712811  time: 0:06:27.812062\n",
            "\n",
            "epoch =    550  epoch loss = 0.00691456  time: 0:07:06.212465\n",
            "\n",
            "epoch =    600  epoch loss = 0.00709275  time: 0:07:44.738657\n",
            "\n",
            "epoch =    650  epoch loss = 0.00665444  time: 0:08:23.682701\n",
            "\n",
            "epoch =    700  epoch loss = 0.00653347  time: 0:09:03.125501\n",
            "\n",
            "epoch =    750  epoch loss = 0.00642613  time: 0:09:43.260516\n",
            "\n",
            "epoch =    800  epoch loss = 0.00632873  time: 0:10:22.162948\n",
            "\n",
            "epoch =    850  epoch loss = 0.00878122  time: 0:11:01.633618\n",
            "\n",
            "epoch =    900  epoch loss = 0.00623822  time: 0:11:40.818521\n",
            "\n",
            "epoch =    950  epoch loss = 0.00613817  time: 0:12:19.852585\n",
            "\n",
            "epoch =   1000  epoch loss = 0.00607034  time: 0:12:58.540344\n",
            "\n",
            "epoch =   1050  epoch loss = 0.00600610  time: 0:13:37.257635\n",
            "\n",
            "epoch =   1100  epoch loss = 0.00594465  time: 0:14:15.526343\n",
            "\n",
            "epoch =   1150  epoch loss = 0.00588587  time: 0:14:54.043215\n",
            "\n",
            "epoch =   1200  epoch loss = 0.00582986  time: 0:15:32.476585\n",
            "\n",
            "epoch =   1250  epoch loss = 0.00847120  time: 0:16:10.930032\n",
            "\n",
            "epoch =   1300  epoch loss = 0.00580134  time: 0:16:49.197189\n",
            "\n",
            "epoch =   1350  epoch loss = 0.00575284  time: 0:17:27.571854\n",
            "\n",
            "epoch =   1400  epoch loss = 0.00571261  time: 0:18:06.272522\n",
            "\n",
            "epoch =   1450  epoch loss = 0.00567564  time: 0:18:44.674404\n",
            "\n",
            "epoch =   1500  epoch loss = 0.00564104  time: 0:19:23.060100\n",
            "\n",
            "epoch =   1550  epoch loss = 0.00560842  time: 0:20:01.529012\n",
            "\n",
            "epoch =   1600  epoch loss = 0.00557753  time: 0:20:39.902623\n",
            "\n",
            "epoch =   1650  epoch loss = 0.00554817  time: 0:21:18.362512\n",
            "\n",
            "epoch =   1700  epoch loss = 0.00552014  time: 0:21:56.884034\n",
            "\n",
            "epoch =   1750  epoch loss = 0.00549323  time: 0:22:35.286310\n",
            "\n",
            "epoch =   1800  epoch loss = 0.00643005  time: 0:23:13.693950\n",
            "\n",
            "epoch =   1850  epoch loss = 0.00552469  time: 0:23:52.012418\n",
            "\n",
            "epoch =   1900  epoch loss = 0.00547902  time: 0:24:30.318969\n",
            "\n",
            "epoch =   1950  epoch loss = 0.00545362  time: 0:25:08.724003\n",
            "\n",
            "epoch =   2000  epoch loss = 0.00543129  time: 0:25:46.967365\n",
            "\n",
            "epoch =   2050  epoch loss = 0.00540987  time: 0:26:25.188056\n",
            "\n",
            "epoch =   2100  epoch loss = 0.00538871  time: 0:27:03.329296\n",
            "\n",
            "epoch =   2150  epoch loss = 0.00536750  time: 0:27:41.661534\n",
            "\n",
            "epoch =   2200  epoch loss = 0.00534604  time: 0:28:20.093917\n",
            "\n",
            "epoch =   2250  epoch loss = 0.00532417  time: 0:28:58.586939\n",
            "\n",
            "epoch =   2300  epoch loss = 0.00530174  time: 0:29:36.983359\n",
            "\n",
            "epoch =   2350  epoch loss = 0.00527857  time: 0:30:15.663797\n",
            "\n",
            "epoch =   2400  epoch loss = 0.00525451  time: 0:30:54.190648\n",
            "\n",
            "epoch =   2450  epoch loss = 0.00522937  time: 0:31:33.035691\n",
            "\n",
            "epoch =   2500  epoch loss = 0.00520295  time: 0:32:11.627001\n",
            "\n",
            "epoch =   2550  epoch loss = 0.00742492  time: 0:32:50.373056\n",
            "\n",
            "epoch =   2600  epoch loss = 0.00522179  time: 0:33:28.977391\n",
            "\n",
            "epoch =   2650  epoch loss = 0.00518149  time: 0:34:07.896394\n",
            "\n",
            "epoch =   2700  epoch loss = 0.00515491  time: 0:34:46.986406\n",
            "\n",
            "epoch =   2750  epoch loss = 0.00512986  time: 0:35:26.062834\n",
            "\n",
            "epoch =   2800  epoch loss = 0.00510435  time: 0:36:04.755487\n",
            "\n",
            "epoch =   2850  epoch loss = 0.00507785  time: 0:36:43.383037\n",
            "\n",
            "epoch =   2900  epoch loss = 0.00505010  time: 0:37:22.076794\n",
            "\n",
            "epoch =   2950  epoch loss = 0.00502089  time: 0:38:00.566834\n",
            "\n",
            "epoch =   3000  epoch loss = 0.00499001  time: 0:38:39.359977\n",
            "\n",
            "epoch =   3050  epoch loss = 0.00495724  time: 0:39:17.902777\n",
            "\n",
            "epoch =   3100  epoch loss = 0.00492236  time: 0:39:56.733811\n",
            "\n",
            "epoch =   3150  epoch loss = 0.00488513  time: 0:40:35.550719\n",
            "\n",
            "epoch =   3200  epoch loss = 0.00484529  time: 0:41:14.081182\n",
            "\n",
            "epoch =   3250  epoch loss = 0.00480257  time: 0:41:52.734804\n",
            "\n",
            "epoch =   3300  epoch loss = 0.00475666  time: 0:42:31.452149\n",
            "\n",
            "epoch =   3350  epoch loss = 0.00470723  time: 0:43:10.065045\n",
            "\n",
            "epoch =   3400  epoch loss = 0.00465394  time: 0:43:48.844654\n",
            "\n",
            "epoch =   3450  epoch loss = 0.00520663  time: 0:44:27.521722\n",
            "\n",
            "epoch =   3500  epoch loss = 0.00464364  time: 0:45:06.968019\n",
            "\n",
            "epoch =   3550  epoch loss = 0.00452829  time: 0:45:46.688313\n",
            "\n",
            "epoch =   3600  epoch loss = 0.00447931  time: 0:46:25.603810\n",
            "\n",
            "epoch =   3650  epoch loss = 0.00442882  time: 0:47:04.835571\n",
            "\n",
            "epoch =   3700  epoch loss = 0.00437556  time: 0:47:43.930025\n",
            "\n",
            "epoch =   3750  epoch loss = 0.00431918  time: 0:48:22.998021\n",
            "\n",
            "epoch =   3800  epoch loss = 0.00425949  time: 0:49:01.699124\n",
            "\n",
            "epoch =   3850  epoch loss = 0.00419645  time: 0:49:40.700451\n",
            "\n",
            "epoch =   3900  epoch loss = 0.00413029  time: 0:50:19.948857\n",
            "\n",
            "epoch =   3950  epoch loss = 0.00406156  time: 0:50:58.795391\n",
            "\n",
            "epoch =   4000  epoch loss = 0.00399128  time: 0:51:37.999165\n",
            "\n",
            "epoch =   4050  epoch loss = 0.00392095  time: 0:52:17.313149\n",
            "\n",
            "epoch =   4100  epoch loss = 0.00385249  time: 0:52:56.612105\n",
            "\n",
            "epoch =   4150  epoch loss = 0.01204450  time: 0:53:35.785743\n",
            "\n",
            "epoch =   4200  epoch loss = 0.00376402  time: 0:54:14.900625\n",
            "\n",
            "epoch =   4250  epoch loss = 0.00371319  time: 0:54:54.314764\n",
            "\n",
            "epoch =   4300  epoch loss = 0.00366923  time: 0:55:32.954545\n",
            "\n",
            "epoch =   4350  epoch loss = 0.00362855  time: 0:56:11.624459\n",
            "\n",
            "epoch =   4400  epoch loss = 0.00359052  time: 0:56:50.234124\n",
            "\n",
            "epoch =   4450  epoch loss = 0.00355466  time: 0:57:28.667986\n",
            "\n",
            "epoch =   4500  epoch loss = 0.00352042  time: 0:58:07.128878\n",
            "\n",
            "epoch =   4550  epoch loss = 0.00348723  time: 0:58:45.930703\n",
            "\n",
            "epoch =   4600  epoch loss = 0.00345452  time: 0:59:24.406413\n",
            "\n",
            "epoch =   4650  epoch loss = 0.00342182  time: 1:00:02.924525\n",
            "\n",
            "epoch =   4700  epoch loss = 0.00338871  time: 1:00:41.481194\n",
            "\n",
            "epoch =   4750  epoch loss = 0.00335486  time: 1:01:19.866671\n",
            "\n",
            "epoch =   4800  epoch loss = 0.00331999  time: 1:01:58.162043\n",
            "\n",
            "epoch =   4850  epoch loss = 0.00328391  time: 1:02:36.955354\n",
            "\n",
            "epoch =   4900  epoch loss = 0.00324649  time: 1:03:19.787913\n",
            "\n",
            "epoch =   4950  epoch loss = 0.00320768  time: 1:04:02.495868\n",
            "\n",
            "epoch =   5000  epoch loss = 0.00316755  time: 1:04:44.993801\n",
            "\n",
            "epoch =   5050  epoch loss = 0.00312626  time: 1:05:27.548269\n",
            "\n",
            "epoch =   5100  epoch loss = 0.00308414  time: 1:06:10.112770\n",
            "\n",
            "epoch =   5150  epoch loss = 0.00304170  time: 1:06:52.478590\n",
            "\n",
            "epoch =   5200  epoch loss = 0.00404427  time: 1:07:34.871794\n",
            "\n",
            "epoch =   5250  epoch loss = 0.00297103  time: 1:08:15.129721\n",
            "\n",
            "epoch =   5300  epoch loss = 0.00293188  time: 1:08:54.563967\n",
            "\n",
            "epoch =   5350  epoch loss = 0.00290104  time: 1:09:33.630254\n",
            "\n",
            "epoch =   5400  epoch loss = 0.00287176  time: 1:10:12.408508\n",
            "\n",
            "epoch =   5450  epoch loss = 0.00284406  time: 1:10:52.470354\n",
            "\n",
            "epoch =   5500  epoch loss = 0.00281790  time: 1:11:36.160844\n",
            "\n",
            "epoch =   5550  epoch loss = 0.00279315  time: 1:12:18.834567\n",
            "\n",
            "epoch =   5600  epoch loss = 0.00276957  time: 1:12:59.104738\n",
            "\n",
            "epoch =   5650  epoch loss = 0.00274685  time: 1:13:39.929814\n",
            "\n",
            "epoch =   5700  epoch loss = 0.00272466  time: 1:14:21.867691\n",
            "\n",
            "epoch =   5750  epoch loss = 0.00270265  time: 1:15:06.781104\n",
            "\n",
            "epoch =   5800  epoch loss = 0.00295677  time: 1:15:51.079993\n",
            "\n",
            "epoch =   5850  epoch loss = 0.00266236  time: 1:16:34.549774\n",
            "\n",
            "epoch =   5900  epoch loss = 0.00264152  time: 1:17:18.595937\n",
            "\n",
            "epoch =   5950  epoch loss = 0.00262125  time: 1:18:01.948839\n",
            "\n"
          ]
        }
      ]
    },
    {
      "cell_type": "code",
      "source": [
        "t_sol_star1=  torch.from_numpy(t_sol_star).type(torch.DoubleTensor)\n",
        "x_sol_star1= torch.from_numpy(x_sol_star).type(torch.DoubleTensor)\n",
        "u_pred = pinn_adam.forward(t_sol_star1, x_sol_star1)\n",
        "u_pred = u_pred.detach().numpy()\n",
        "print(np.linalg.norm(u_sol_star-u_pred,2)/np.linalg.norm(u_sol_star,2))"
      ],
      "metadata": {
        "colab": {
          "base_uri": "https://localhost:8080/"
        },
        "id": "ichzy_Io_t_r",
        "outputId": "75fc836e-f82d-4c1f-a500-49cd9639dc02"
      },
      "execution_count": null,
      "outputs": [
        {
          "output_type": "stream",
          "name": "stdout",
          "text": [
            "0.28444500615092466\n"
          ]
        }
      ]
    },
    {
      "cell_type": "code",
      "source": [
        "# t_sol_star1=  torch.from_numpy(t_sol_star).type(torch.DoubleTensor)\n",
        "# x_sol_star1= torch.from_numpy(x_sol_star).type(torch.DoubleTensor)\n",
        "# u_pred = pinn.forward(t_sol_star1, x_sol_star1)\n",
        "# u_pred = u_pred.detach().numpy()\n",
        "U_pred = griddata(X_sol_star, u_pred.flatten(), (T_sol, X_sol), method='cubic')\n",
        "\n",
        "fig, ax = plt.subplots()\n",
        "ax.axis('off')\n",
        "    \n",
        "######## Row 2: Pressure #######################\n",
        "########      Predicted p(t,x,y)     ########### \n",
        "gs = gridspec.GridSpec(1, 2)\n",
        "gs.update(top=0.8, bottom=0.2, left=0.1, right=0.9, wspace=0.5)\n",
        "ax = plt.subplot(gs[:, 0])\n",
        "h = ax.imshow(Exact_sol, interpolation='nearest', cmap='jet', \n",
        "              extent=[lb_sol[0], ub_sol[0], lb_sol[1], ub_sol[1]],\n",
        "              origin='lower', aspect='auto')\n",
        "divider = make_axes_locatable(ax)\n",
        "cax = divider.append_axes(\"right\", size=\"5%\", pad=0.05)\n",
        "\n",
        "fig.colorbar(h, cax=cax)\n",
        "ax.set_xlabel('$t$')\n",
        "ax.set_ylabel('$x$')\n",
        "ax.set_title('Exact Dynamics', fontsize = 10)\n",
        "\n",
        "########     Exact p(t,x,y)     ########### \n",
        "ax = plt.subplot(gs[:, 1])\n",
        "h = ax.imshow(U_pred, interpolation='nearest', cmap='jet', \n",
        "              extent=[lb_sol[0], ub_sol[0], lb_sol[1], ub_sol[1]], \n",
        "              origin='lower', aspect='auto')\n",
        "divider = make_axes_locatable(ax)\n",
        "cax = divider.append_axes(\"right\", size=\"5%\", pad=0.05)\n",
        "\n",
        "fig.colorbar(h, cax=cax)\n",
        "ax.set_xlabel('$t$')\n",
        "ax.set_ylabel('$x$')\n",
        "ax.set_title('Learned Dynamics', fontsize = 10)"
      ],
      "metadata": {
        "colab": {
          "base_uri": "https://localhost:8080/",
          "height": 269
        },
        "id": "NqihrXIsAKth",
        "outputId": "f520f461-1800-4ced-e1f4-71c77c798f5c"
      },
      "execution_count": null,
      "outputs": [
        {
          "output_type": "execute_result",
          "data": {
            "text/plain": [
              "Text(0.5, 1.0, 'Learned Dynamics')"
            ]
          },
          "metadata": {},
          "execution_count": 31
        },
        {
          "output_type": "display_data",
          "data": {
            "text/plain": [
              "<Figure size 432x288 with 4 Axes>"
            ],
            "image/png": "[encoded data removed]"
          },
          "metadata": {
            "needs_background": "light"
          }
        }
      ]
    },
    {
      "cell_type": "code",
      "source": [
        ""
      ],
      "metadata": {
        "id": "pokb0DcNEDyi"
      },
      "execution_count": null,
      "outputs": []
    }
  ]
}